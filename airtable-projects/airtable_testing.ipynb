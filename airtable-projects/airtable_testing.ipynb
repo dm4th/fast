{
 "cells": [
  {
   "cell_type": "code",
   "execution_count": 9,
   "metadata": {},
   "outputs": [],
   "source": [
    "import os\n",
    "from lib.AirtableLib import AirtableData"
   ]
  },
  {
   "cell_type": "code",
   "execution_count": 10,
   "metadata": {},
   "outputs": [],
   "source": [
    "personal_base_id = 'appYknCML4IMHe9DP'\n",
    "personal_table_id = 'tblQcjtQ7kB3dJx1m'\n",
    "airtable_api_key = os.environ.get('AIRTABLE_API_KEY')"
   ]
  },
  {
   "cell_type": "code",
   "execution_count": null,
   "metadata": {},
   "outputs": [],
   "source": [
    "personal_airtable = AirtableData(personal_base_id, personal_table_id, airtable_api_key)\n",
    "personal_data = personal_airtable.get_data()\n",
    "print(personal_data)"
   ]
  },
  {
   "cell_type": "markdown",
   "metadata": {},
   "source": [
    "## Oura Columns Work"
   ]
  },
  {
   "cell_type": "code",
   "execution_count": 12,
   "metadata": {},
   "outputs": [],
   "source": [
    "import requests\n",
    "import random\n",
    "import pandas as pd\n",
    "from datetime import datetime, timedelta\n",
    "from typing import List, Dict, Any, Union"
   ]
  },
  {
   "cell_type": "markdown",
   "metadata": {},
   "source": [
    "#### Testing Oura API endpoints"
   ]
  },
  {
   "cell_type": "code",
   "execution_count": 13,
   "metadata": {},
   "outputs": [],
   "source": [
    "base_url = 'https://api.ouraring.com/v2/usercollection/'\n",
    "access_token = os.environ.get('OURA_TOKEN')\n",
    "endpoints = ['daily_activity','daily_readiness', 'daily_sleep', 'daily_spo2', 'daily_stress']\n",
    "start_date = (datetime.now() - timedelta(days=1)).strftime('%Y-%m-%d')\n",
    "end_date = datetime.now().strftime('%Y-%m-%d')"
   ]
  },
  {
   "cell_type": "code",
   "execution_count": 14,
   "metadata": {},
   "outputs": [],
   "source": [
    "def test_oura_endpoint(endpoint, start_date, end_date):\n",
    "    url = base_url + endpoint + '?start_date=' + start_date + '&end_date=' + end_date\n",
    "    r = requests.get(url, headers={'Authorization': 'Bearer ' + access_token})\n",
    "    return r.json()"
   ]
  },
  {
   "cell_type": "code",
   "execution_count": 15,
   "metadata": {},
   "outputs": [
    {
     "name": "stdout",
     "output_type": "stream",
     "text": [
      "daily_activity\n",
      "Records: 1\n",
      "Days: ['2024-01-25']\n",
      "[{'id': 'a038fd6b-2800-43c1-875c-9f6033f50da4', 'class_5_min': '111111111111111111111111111112334333344433333333443223222222222222222222333232322332232222233322223222222222222222233222323333222222223232222233322332223222222233333333343333333333322322333333333322222322222222222000000002343222222222222222211111111111111111111111111111111111111111111111', 'score': 80, 'active_calories': 468, 'average_met_minutes': 1.53125, 'contributors': {'meet_daily_targets': 43, 'move_every_hour': 100, 'recovery_time': 100, 'stay_active': 66, 'training_frequency': 100, 'training_volume': 98}, 'equivalent_walking_distance': 8354, 'high_activity_met_minutes': 20, 'high_activity_time': 120, 'inactivity_alerts': 0, 'low_activity_met_minutes': 241, 'low_activity_time': 20280, 'medium_activity_met_minutes': 114, 'medium_activity_time': 2220, 'met': {'interval': 60.0, 'items': [1.1, 1.0, 0.9, 0.9, 0.9, 0.9, 1.1, 0.9, 0.9, 0.9, 0.9, 0.9, 0.9, 0.9, 0.9, 0.9, 0.9, 0.9, 0.9, 0.9, 0.9, 0.9, 0.9, 0.9, 0.9, 0.9, 0.9, 0.9, 0.9, 0.9, 0.9, 0.9, 0.9, 0.9, 0.9, 0.9, 0.9, 0.9, 0.9, 0.9, 0.9, 0.9, 0.9, 0.9, 0.9, 0.9, 1.1, 0.9, 0.9, 0.9, 1.1, 0.9, 0.9, 0.9, 0.9, 0.9, 0.9, 0.9, 0.9, 0.9, 0.9, 0.9, 0.9, 0.9, 0.9, 0.9, 0.9, 0.9, 0.9, 0.9, 1.1, 0.9, 0.9, 0.9, 0.9, 0.9, 0.9, 0.9, 0.9, 0.9, 0.9, 0.9, 0.9, 0.9, 0.9, 1.1, 0.9, 0.9, 0.9, 0.9, 0.9, 0.9, 0.9, 1.1, 0.9, 0.9, 0.9, 0.9, 0.9, 0.9, 0.9, 0.9, 0.9, 0.9, 0.9, 0.9, 0.9, 0.9, 0.9, 0.9, 0.9, 1.1, 0.9, 0.9, 0.9, 0.9, 0.9, 1.0, 0.9, 0.9, 0.9, 0.9, 0.9, 0.9, 0.9, 0.9, 0.9, 0.9, 0.9, 0.9, 0.9, 0.9, 0.9, 0.9, 1.1, 0.9, 0.9, 0.9, 0.9, 0.9, 0.9, 0.9, 0.9, 0.9, 0.9, 0.9, 0.9, 0.9, 0.9, 0.9, 1.3, 1.2, 1.1, 1.3, 2.1, 2.4, 4.1, 1.9, 1.5, 4.4, 3.0, 1.7, 13.2, 7.7, 1.9, 2.0, 2.4, 1.3, 2.3, 1.4, 3.1, 2.2, 2.3, 4.6, 3.7, 3.1, 1.7, 4.0, 2.9, 1.6, 3.1, 1.6, 4.3, 2.3, 3.6, 5.4, 2.8, 6.1, 5.5, 5.3, 2.9, 3.9, 3.3, 6.3, 5.7, 5.4, 5.1, 1.9, 3.2, 4.2, 1.7, 1.8, 1.9, 1.9, 2.1, 1.6, 2.3, 2.2, 1.9, 2.5, 2.1, 4.0, 2.5, 2.9, 4.4, 3.2, 2.5, 1.9, 2.0, 2.5, 2.1, 2.1, 3.2, 4.3, 2.1, 2.1, 3.5, 4.6, 4.0, 2.9, 4.4, 4.3, 3.9, 4.0, 2.5, 2.6, 4.3, 3.6, 4.2, 4.2, 5.7, 4.6, 5.0, 4.8, 2.9, 5.0, 4.0, 4.4, 4.2, 1.9, 2.2, 2.9, 2.5, 1.8, 1.9, 1.6, 1.7, 1.7, 1.3, 1.4, 1.6, 1.3, 1.2, 1.3, 1.5, 1.8, 1.4, 1.7, 1.9, 1.7, 1.8, 1.5, 1.2, 1.3, 1.2, 1.2, 1.2, 1.2, 1.2, 1.2, 1.2, 1.2, 1.2, 1.3, 1.5, 1.6, 1.3, 1.3, 1.2, 1.2, 1.2, 1.2, 1.7, 1.3, 1.2, 1.4, 1.5, 1.2, 1.6, 1.3, 1.8, 1.7, 1.4, 1.3, 1.4, 1.6, 1.3, 1.2, 1.7, 1.8, 1.4, 1.2, 1.2, 1.3, 1.4, 1.8, 1.5, 1.2, 1.3, 1.5, 1.5, 1.6, 1.6, 1.8, 1.6, 1.4, 1.3, 1.2, 1.1, 1.2, 1.3, 1.3, 1.4, 1.4, 1.6, 2.0, 1.3, 1.2, 1.3, 1.2, 1.2, 1.2, 1.2, 1.2, 1.2, 1.5, 1.5, 1.7, 1.7, 1.9, 1.5, 1.5, 1.3, 1.2, 1.3, 1.4, 1.4, 1.5, 1.3, 1.2, 1.4, 1.9, 1.9, 1.4, 1.3, 1.7, 1.9, 1.9, 1.2, 1.8, 1.7, 1.2, 1.8, 2.1, 1.5, 1.8, 1.4, 1.4, 1.7, 1.4, 1.6, 1.8, 1.9, 1.8, 1.9, 1.7, 1.7, 1.5, 1.6, 1.6, 1.9, 1.9, 1.9, 1.9, 1.7, 1.5, 2.5, 1.4, 1.4, 1.4, 1.4, 1.7, 1.3, 1.4, 1.3, 1.3, 1.3, 1.7, 1.7, 1.9, 1.9, 1.8, 1.8, 1.5, 1.7, 1.6, 1.2, 1.2, 1.5, 1.3, 1.2, 1.5, 1.6, 1.8, 1.4, 1.9, 1.5, 1.8, 1.2, 1.5, 1.6, 1.5, 1.3, 1.7, 1.6, 1.5, 1.7, 1.9, 1.3, 1.6, 1.4, 1.4, 1.6, 1.5, 1.8, 1.8, 1.6, 1.3, 1.2, 1.3, 1.3, 1.2, 1.3, 1.3, 1.5, 1.9, 1.5, 1.5, 3.0, 1.6, 1.7, 2.9, 2.3, 1.8, 1.4, 1.4, 1.3, 2.8, 2.0, 1.4, 1.3, 1.4, 2.0, 1.5, 1.3, 1.5, 1.5, 1.2, 1.7, 1.7, 1.5, 1.5, 1.3, 1.2, 1.2, 1.2, 1.3, 1.7, 1.7, 1.4, 1.8, 2.3, 1.9, 2.6, 3.2, 1.9, 1.6, 1.5, 1.3, 1.2, 1.2, 1.3, 1.6, 1.5, 1.4, 1.3, 1.8, 1.2, 1.2, 1.2, 1.2, 1.2, 1.9, 1.7, 1.4, 1.6, 1.5, 1.7, 1.3, 1.4, 1.4, 1.8, 1.4, 1.4, 1.6, 1.3, 1.3, 1.3, 1.4, 1.6, 1.4, 1.3, 1.4, 1.3, 1.7, 1.5, 1.4, 1.3, 1.4, 2.1, 1.3, 1.2, 1.3, 1.4, 1.7, 1.3, 1.3, 1.4, 1.5, 1.3, 1.4, 1.5, 1.2, 1.2, 1.2, 1.3, 1.3, 1.2, 1.4, 1.4, 1.2, 1.4, 1.4, 1.3, 1.5, 1.4, 1.4, 1.2, 1.3, 1.3, 1.3, 1.2, 1.2, 1.5, 1.4, 1.2, 1.3, 1.3, 2.5, 1.7, 1.8, 1.9, 1.9, 2.3, 1.7, 1.7, 1.7, 1.2, 1.7, 1.4, 1.5, 1.2, 1.3, 1.6, 1.5, 1.3, 1.6, 1.4, 1.4, 1.5, 1.9, 1.3, 1.8, 1.6, 1.9, 1.3, 1.2, 1.3, 1.6, 1.3, 2.1, 1.8, 1.6, 1.7, 1.4, 1.9, 1.7, 1.9, 1.7, 1.6, 2.0, 1.3, 2.3, 1.5, 1.4, 1.5, 1.9, 1.3, 1.5, 1.8, 1.4, 1.3, 1.7, 1.6, 1.6, 1.7, 1.7, 1.6, 1.2, 1.4, 1.4, 1.4, 1.3, 1.9, 1.3, 1.6, 1.3, 1.3, 1.3, 1.5, 1.5, 1.4, 1.4, 1.6, 1.2, 1.2, 1.2, 1.2, 1.2, 1.5, 1.3, 1.5, 1.5, 1.5, 1.4, 1.8, 1.5, 1.6, 1.5, 1.7, 1.4, 1.2, 1.9, 1.9, 1.5, 1.6, 1.5, 1.7, 1.6, 1.2, 1.6, 2.6, 1.9, 1.1, 1.5, 1.6, 1.5, 1.2, 1.2, 1.2, 1.3, 1.2, 1.2, 1.3, 1.2, 1.2, 1.3, 1.2, 1.3, 2.8, 1.4, 1.3, 1.8, 1.5, 1.3, 1.3, 1.3, 1.8, 1.6, 1.7, 1.9, 1.9, 1.8, 1.6, 1.8, 1.7, 1.7, 1.8, 2.0, 2.5, 2.6, 2.4, 3.7, 1.5, 1.7, 1.3, 1.3, 1.4, 1.3, 1.6, 1.5, 1.5, 1.9, 1.3, 1.2, 1.7, 1.3, 1.8, 1.8, 1.5, 3.6, 3.1, 2.7, 1.7, 1.3, 1.2, 1.2, 0.9, 0.9, 1.1, 0.9, 0.9, 1.3, 1.9, 1.2, 1.3, 1.7, 1.4, 1.2, 1.2, 1.2, 1.3, 1.4, 1.9, 2.2, 1.2, 1.2, 1.3, 1.3, 1.2, 1.2, 1.2, 1.2, 1.2, 0.9, 1.2, 1.1, 1.3, 1.3, 1.2, 1.3, 1.2, 1.5, 1.4, 1.4, 1.2, 1.2, 1.2, 1.1, 1.2, 1.2, 1.2, 1.5, 1.5, 1.2, 1.5, 1.2, 1.4, 1.3, 1.7, 2.3, 1.2, 1.3, 2.6, 3.2, 3.7, 3.1, 2.5, 2.1, 2.1, 3.4, 2.4, 2.0, 1.5, 2.3, 2.3, 1.8, 1.9, 2.4, 3.0, 1.9, 3.3, 1.8, 1.5, 1.9, 1.8, 1.9, 1.7, 1.9, 1.8, 1.8, 1.9, 2.9, 1.6, 1.9, 1.9, 1.9, 1.5, 3.7, 1.8, 3.2, 3.3, 5.1, 2.4, 3.8, 3.3, 4.8, 4.6, 2.3, 2.4, 1.8, 1.8, 1.5, 1.5, 1.7, 1.9, 1.9, 1.7, 1.9, 1.2, 1.8, 2.1, 5.8, 1.4, 1.4, 1.4, 1.7, 1.4, 1.4, 1.8, 2.1, 1.8, 3.3, 3.4, 2.5, 3.2, 1.8, 3.2, 1.7, 2.8, 2.2, 1.9, 1.4, 1.4, 2.2, 2.1, 2.2, 1.3, 1.5, 1.6, 1.6, 1.6, 1.5, 1.5, 2.6, 1.7, 5.0, 1.9, 1.6, 1.5, 1.8, 1.3, 1.9, 2.3, 1.3, 1.6, 1.5, 1.7, 2.3, 1.6, 1.5, 1.4, 1.2, 1.3, 1.3, 1.2, 1.8, 1.7, 1.5, 1.9, 1.2, 1.2, 1.2, 1.4, 1.2, 1.3, 1.4, 1.5, 1.6, 1.4, 1.2, 1.6, 1.9, 2.4, 3.5, 1.9, 2.8, 3.0, 2.9, 2.4, 1.3, 2.6, 1.7, 1.7, 1.8, 2.2, 3.1, 2.1, 1.7, 1.7, 1.6, 1.4, 2.6, 1.9, 2.8, 2.5, 1.2, 1.2, 2.3, 2.4, 1.9, 1.9, 2.2, 2.0, 1.9, 1.9, 1.9, 2.6, 2.1, 2.2, 1.2, 2.3, 1.4, 1.6, 2.0, 3.2, 1.8, 1.4, 1.2, 1.3, 1.3, 1.6, 1.3, 1.5, 1.8, 1.4, 1.5, 1.8, 1.4, 1.6, 1.3, 1.6, 1.1, 1.3, 1.2, 1.4, 1.3, 1.4, 1.3, 1.2, 1.2, 1.2, 1.2, 1.2, 2.8, 3.2, 1.1, 1.3, 1.9, 1.6, 1.9, 1.6, 1.3, 1.2, 1.3, 1.2, 1.2, 1.3, 1.2, 1.3, 1.2, 1.3, 1.2, 1.3, 1.3, 1.2, 1.2, 1.1, 0.9, 1.5, 1.5, 1.5, 1.5, 1.8, 1.5, 1.3, 1.2, 1.2, 1.2, 1.2, 1.2, 1.3, 1.2, 1.2, 1.2, 1.2, 1.2, 1.2, 1.4, 1.3, 1.2, 1.3, 1.2, 1.2, 1.3, 1.2, 1.7, 1.5, 1.2, 0.9, 1.2, 1.6, 1.5, 1.7, 0.1, 0.1, 0.1, 0.1, 0.1, 0.1, 0.1, 0.1, 0.1, 0.1, 0.1, 0.1, 0.1, 0.1, 0.1, 0.1, 0.1, 0.1, 0.1, 0.1, 0.1, 0.1, 0.1, 0.1, 0.1, 0.1, 0.1, 0.1, 0.1, 0.1, 0.1, 0.1, 0.1, 0.1, 0.1, 0.1, 0.1, 0.1, 0.1, 0.1, 0.1, 1.5, 1.4, 1.3, 1.7, 2.3, 2.0, 1.3, 1.4, 2.3, 1.3, 1.2, 1.2, 1.2, 9.7, 6.6, 7.8, 1.3, 1.7, 2.6, 1.4, 1.2, 1.2, 1.3, 1.2, 1.2, 1.2, 1.5, 1.2, 1.4, 1.3, 1.4, 1.3, 1.2, 1.6, 1.3, 1.1, 1.2, 1.3, 1.2, 1.5, 1.9, 1.5, 1.4, 1.5, 1.6, 1.6, 1.4, 1.5, 1.4, 1.5, 1.3, 1.3, 1.4, 1.3, 1.3, 1.3, 1.3, 1.3, 1.5, 1.2, 1.2, 1.2, 1.1, 1.2, 1.3, 1.3, 1.3, 1.2, 1.3, 1.1, 1.2, 1.6, 1.2, 1.2, 1.2, 1.6, 1.3, 1.2, 1.2, 1.2, 1.2, 1.1, 1.2, 1.2, 1.2, 1.2, 1.2, 1.2, 1.2, 1.1, 1.0, 1.0, 1.0, 1.0, 1.1, 0.9, 1.7, 1.3, 1.0, 0.9, 0.9, 0.9, 0.9, 0.9, 0.9, 0.9, 0.9, 0.9, 0.9, 0.9, 0.9, 0.9, 0.9, 0.9, 0.9, 0.9, 0.9, 0.9, 0.9, 0.9, 0.9, 0.9, 0.9, 0.9, 0.9, 0.9, 0.9, 0.9, 0.9, 0.9, 0.9, 0.9, 0.9, 0.9, 0.9, 0.9, 0.9, 0.9, 0.9, 0.9, 0.9, 0.9, 0.9, 0.9, 0.9, 0.9, 0.9, 0.9, 0.9, 0.9, 0.9, 0.9, 0.9, 0.9, 0.9, 0.9, 0.9, 0.9, 0.9, 0.9, 0.9, 0.9, 0.9, 0.9, 0.9, 0.9, 0.9, 0.9, 0.9, 0.9, 0.9, 0.9, 0.9, 0.9, 0.9, 0.9, 0.9, 0.9, 0.9, 0.9, 0.9, 0.9, 0.9, 0.9, 0.9, 0.9, 0.9, 0.9, 0.9, 0.9, 0.9, 0.9, 0.9, 0.9, 0.9, 0.9, 0.9, 0.9, 0.9, 0.9, 0.9, 0.9, 0.9, 0.9, 0.9, 0.9, 0.9, 0.9, 0.9, 0.9, 0.9, 0.9, 0.9, 0.9, 0.9, 0.9, 0.9, 0.9, 0.9, 0.9, 0.9, 0.9, 0.9, 0.9, 0.9, 0.9, 0.9, 0.9, 0.9, 0.9, 0.9, 0.9, 0.9, 0.9, 0.9, 0.9, 0.9, 0.9, 0.9, 0.9, 0.9, 0.9, 1.1, 0.9, 0.9, 0.9, 0.9, 0.9, 0.9, 0.9, 0.9, 0.9, 0.9, 0.9, 0.9, 0.9, 0.9, 0.9, 0.9, 0.9, 0.9, 0.9, 0.9, 0.9, 0.9, 0.9, 0.9, 0.9, 0.9, 0.9, 0.9, 0.9, 0.9, 0.9, 0.9, 0.9, 0.9, 0.9, 0.9, 0.9, 1.2, 0.9, 0.9, 0.9, 0.9, 0.9, 0.9, 0.9, 0.9, 0.9, 0.9, 0.9, 0.9, 0.9, 0.9, 0.9, 0.9, 0.9, 0.9, 0.9, 1.1, 0.9, 0.9, 0.9, 0.9, 0.9, 0.9, 0.9, 0.9, 0.9, 0.9, 0.9, 0.9, 0.9, 0.9, 0.9, 0.9, 0.9, 0.9, 0.9, 0.9, 0.9, 0.9, 0.9, 0.9, 0.9, 0.9, 0.9, 0.9, 0.9, 0.9, 0.9, 0.9, 0.9, 0.9], 'timestamp': '2024-01-25T04:00:00.000-08:00'}, 'meters_to_target': 7600, 'non_wear_time': 2460, 'resting_time': 23640, 'sedentary_met_minutes': 15, 'sedentary_time': 37680, 'steps': 10867, 'target_calories': 850, 'target_meters': 17000, 'total_calories': 2603, 'day': '2024-01-25', 'timestamp': '2024-01-25T04:00:00-08:00'}]\n",
      "\n",
      "daily_readiness\n",
      "Records: 2\n",
      "Days: ['2024-01-25', '2024-01-26']\n",
      "[{'id': '727fb5cb-d9c0-4668-9f5e-a59700cb387f', 'contributors': {'activity_balance': 84, 'body_temperature': 100, 'hrv_balance': 76, 'previous_day_activity': 82, 'previous_night': 83, 'recovery_index': 100, 'resting_heart_rate': 100, 'sleep_balance': 72}, 'day': '2024-01-25', 'score': 85, 'temperature_deviation': -0.1, 'temperature_trend_deviation': -0.11, 'timestamp': '2024-01-25T00:00:00+00:00'}, {'id': '19f2e5b3-7391-4f06-8c11-6dce5655adb1', 'contributors': {'activity_balance': 86, 'body_temperature': 100, 'hrv_balance': 80, 'previous_day_activity': 85, 'previous_night': 87, 'recovery_index': 84, 'resting_heart_rate': 100, 'sleep_balance': 80}, 'day': '2024-01-26', 'score': 86, 'temperature_deviation': -0.04, 'temperature_trend_deviation': -0.05, 'timestamp': '2024-01-26T00:00:00+00:00'}]\n",
      "\n",
      "daily_sleep\n",
      "Records: 2\n",
      "Days: ['2024-01-25', '2024-01-26']\n",
      "[{'id': '4ddb94f9-ea21-4395-a41d-ff775d71254c', 'contributors': {'deep_sleep': 95, 'efficiency': 95, 'latency': 56, 'rem_sleep': 87, 'restfulness': 84, 'timing': 100, 'total_sleep': 71}, 'day': '2024-01-25', 'score': 81, 'timestamp': '2024-01-25T00:00:00+00:00'}, {'id': '6f7f4eca-7262-4683-beb6-512e2fb960c0', 'contributors': {'deep_sleep': 98, 'efficiency': 98, 'latency': 81, 'rem_sleep': 85, 'restfulness': 87, 'timing': 75, 'total_sleep': 74}, 'day': '2024-01-26', 'score': 83, 'timestamp': '2024-01-26T00:00:00+00:00'}]\n",
      "\n",
      "daily_spo2\n",
      "Records: 2\n",
      "Days: ['2024-01-25', '2024-01-26']\n",
      "[{'id': '54c0594f-e27f-418d-ba4e-0a60102290ba', 'day': '2024-01-25', 'spo2_percentage': {'average': 98.489}}, {'id': '2b05a4c7-4250-409b-a8a9-7b8c764b5f8e', 'day': '2024-01-26', 'spo2_percentage': {'average': 98.622}}]\n",
      "\n",
      "daily_stress\n",
      "Records: 2\n",
      "Days: ['2024-01-25', '2024-01-26']\n",
      "[{'id': 'a3f0a98b-7299-4610-b037-33b6a0189ec1', 'day': '2024-01-25', 'stress_high': 0, 'recovery_high': 3600, 'day_summary': 'normal'}, {'id': 'e36b6c4a-f7ae-4991-9438-0e55d5bf3642', 'day': '2024-01-26', 'stress_high': 4500, 'recovery_high': 900, 'day_summary': 'normal'}]\n",
      "\n"
     ]
    }
   ],
   "source": [
    "# Test Each Endpoint\n",
    "for endpoint in endpoints:\n",
    "    data = test_oura_endpoint(endpoint, start_date, end_date)[\"data\"]\n",
    "    print(endpoint)\n",
    "    print(f'Records: {len(data)}')\n",
    "    print(f'Days: {[x[\"day\"] for x in data]}')\n",
    "    print(data)\n",
    "    print()"
   ]
  },
  {
   "cell_type": "code",
   "execution_count": 16,
   "metadata": {},
   "outputs": [],
   "source": [
    "activity_columns = ['score', 'active_calories', 'contributors__meet_daily_targets', 'contributors__move_every_hour',\n",
    "                    'contributors__recovery_time', 'contributors__stay_active', 'contributors__training_frequency', \n",
    "                    'contributors__training_volume', 'steps', 'target_calories', 'target_meters', 'total_calories', \n",
    "                    'day', 'high_activity_met_minutes', 'high_activity_time', 'medium_activity_met_minutes',\n",
    "                    'medium_activity_time', 'low_activity_met_minutes', 'low_activity_time', 'rest_activity_met_minutes',\n",
    "                    'equivalent_walking_distance', 'inactivity_alerts']\n",
    "\n",
    "readiness_columns = ['score', 'contributors__activity_balance', 'contributors__body_temperature', 'contributors__hrv_balance',\n",
    "                    'contributors__previous_day_activity', 'contributors__previous_night', 'contributors__recovery_index', \n",
    "                    'contributors__resting_heart_rate', 'contributors__sleep_balance', 'temperature_deviation', 'temperature_trend_deviation']\n",
    "\n",
    "sleep_columns = ['score', 'contributors__deep_sleep', 'contributors__efficiency', 'contributors__latency', 'contributors__rem_sleep',\n",
    "                'contributors__restfulness', 'contributors__timing', 'contributors__total_sleep']\n",
    "\n",
    "spo2_columns = ['spo2_percentage__average']\n",
    "\n",
    "stress_columns = ['stress_high', 'recovery_high', 'day_summary']\n",
    "\n",
    "oura_columns = [activity_columns, readiness_columns, sleep_columns, spo2_columns, stress_columns]"
   ]
  },
  {
   "cell_type": "code",
   "execution_count": 17,
   "metadata": {},
   "outputs": [
    {
     "data": {
      "text/plain": [
       "{'daily_activity': ['score',\n",
       "  'active_calories',\n",
       "  'contributors__meet_daily_targets',\n",
       "  'contributors__move_every_hour',\n",
       "  'contributors__recovery_time',\n",
       "  'contributors__stay_active',\n",
       "  'contributors__training_frequency',\n",
       "  'contributors__training_volume',\n",
       "  'steps',\n",
       "  'target_calories',\n",
       "  'target_meters',\n",
       "  'total_calories',\n",
       "  'day',\n",
       "  'high_activity_met_minutes',\n",
       "  'high_activity_time',\n",
       "  'medium_activity_met_minutes',\n",
       "  'medium_activity_time',\n",
       "  'low_activity_met_minutes',\n",
       "  'low_activity_time',\n",
       "  'rest_activity_met_minutes',\n",
       "  'equivalent_walking_distance',\n",
       "  'inactivity_alerts'],\n",
       " 'daily_readiness': ['score',\n",
       "  'contributors__activity_balance',\n",
       "  'contributors__body_temperature',\n",
       "  'contributors__hrv_balance',\n",
       "  'contributors__previous_day_activity',\n",
       "  'contributors__previous_night',\n",
       "  'contributors__recovery_index',\n",
       "  'contributors__resting_heart_rate',\n",
       "  'contributors__sleep_balance',\n",
       "  'temperature_deviation',\n",
       "  'temperature_trend_deviation'],\n",
       " 'daily_sleep': ['score',\n",
       "  'contributors__deep_sleep',\n",
       "  'contributors__efficiency',\n",
       "  'contributors__latency',\n",
       "  'contributors__rem_sleep',\n",
       "  'contributors__restfulness',\n",
       "  'contributors__timing',\n",
       "  'contributors__total_sleep'],\n",
       " 'daily_spo2': ['spo2_percentage__average'],\n",
       " 'daily_stress': ['stress_high', 'recovery_high', 'day_summary']}"
      ]
     },
     "execution_count": 17,
     "metadata": {},
     "output_type": "execute_result"
    }
   ],
   "source": [
    "oura_columns_with_enpoints = dict(zip(endpoints, oura_columns))\n",
    "oura_columns_with_enpoints"
   ]
  },
  {
   "cell_type": "code",
   "execution_count": 20,
   "metadata": {},
   "outputs": [],
   "source": [
    "def read_oura_endpoint(endpoint: str, start_date: str, end_date: str, columns: List[str]) -> pd.DataFrame:\n",
    "    # Retrieve data from the endpoint\n",
    "    json_data = test_oura_endpoint(endpoint, start_date, end_date)[\"data\"]\n",
    "\n",
    "    # Filter out data where 'day' does not equal start_date\n",
    "    json_data = json_data[0]\n",
    "\n",
    "    # Create a dictionary of the data\n",
    "    df_dict = {}\n",
    "    for col in columns:\n",
    "        if '__' in col:\n",
    "            parent = col.split('__')[0]\n",
    "            child = col.split('__')[1]\n",
    "            df_dict[col] = json_data[parent][child]\n",
    "        else:\n",
    "            df_dict[col] = json_data[col]\n",
    "            \n",
    "    return pd.DataFrame(df_dict, index=[0])"
   ]
  },
  {
   "cell_type": "code",
   "execution_count": 21,
   "metadata": {},
   "outputs": [
    {
     "ename": "IndexError",
     "evalue": "list index out of range",
     "output_type": "error",
     "traceback": [
      "\u001b[0;31m---------------------------------------------------------------------------\u001b[0m",
      "\u001b[0;31mIndexError\u001b[0m                                Traceback (most recent call last)",
      "Cell \u001b[0;32mIn[21], line 13\u001b[0m\n\u001b[1;32m     11\u001b[0m start_date \u001b[38;5;241m=\u001b[39m date\u001b[38;5;241m.\u001b[39mstrftime(\u001b[38;5;124m'\u001b[39m\u001b[38;5;124m%\u001b[39m\u001b[38;5;124mY-\u001b[39m\u001b[38;5;124m%\u001b[39m\u001b[38;5;124mm-\u001b[39m\u001b[38;5;132;01m%d\u001b[39;00m\u001b[38;5;124m'\u001b[39m)\n\u001b[1;32m     12\u001b[0m end_date \u001b[38;5;241m=\u001b[39m (date \u001b[38;5;241m+\u001b[39m timedelta(days\u001b[38;5;241m=\u001b[39m\u001b[38;5;241m1\u001b[39m))\u001b[38;5;241m.\u001b[39mstrftime(\u001b[38;5;124m'\u001b[39m\u001b[38;5;124m%\u001b[39m\u001b[38;5;124mY-\u001b[39m\u001b[38;5;124m%\u001b[39m\u001b[38;5;124mm-\u001b[39m\u001b[38;5;132;01m%d\u001b[39;00m\u001b[38;5;124m'\u001b[39m)\n\u001b[0;32m---> 13\u001b[0m activity_data \u001b[38;5;241m=\u001b[39m pd\u001b[38;5;241m.\u001b[39mconcat([activity_data, \u001b[43mread_oura_endpoint\u001b[49m\u001b[43m(\u001b[49m\u001b[38;5;124;43m'\u001b[39;49m\u001b[38;5;124;43mdaily_activity\u001b[39;49m\u001b[38;5;124;43m'\u001b[39;49m\u001b[43m,\u001b[49m\u001b[43m \u001b[49m\u001b[43mstart_date\u001b[49m\u001b[43m,\u001b[49m\u001b[43m \u001b[49m\u001b[43mend_date\u001b[49m\u001b[43m,\u001b[49m\u001b[43m \u001b[49m\u001b[43mactivity_columns\u001b[49m\u001b[43m)\u001b[49m])\n\u001b[1;32m     14\u001b[0m readiness_data \u001b[38;5;241m=\u001b[39m pd\u001b[38;5;241m.\u001b[39mconcat([readiness_data, read_oura_endpoint(\u001b[38;5;124m'\u001b[39m\u001b[38;5;124mdaily_readiness\u001b[39m\u001b[38;5;124m'\u001b[39m, start_date, end_date, readiness_columns)])\n\u001b[1;32m     15\u001b[0m sleep_data \u001b[38;5;241m=\u001b[39m pd\u001b[38;5;241m.\u001b[39mconcat([sleep_data, read_oura_endpoint(\u001b[38;5;124m'\u001b[39m\u001b[38;5;124mdaily_sleep\u001b[39m\u001b[38;5;124m'\u001b[39m, start_date, end_date, sleep_columns)])\n",
      "Cell \u001b[0;32mIn[20], line 6\u001b[0m, in \u001b[0;36mread_oura_endpoint\u001b[0;34m(endpoint, start_date, end_date, columns)\u001b[0m\n\u001b[1;32m      3\u001b[0m json_data \u001b[38;5;241m=\u001b[39m test_oura_endpoint(endpoint, start_date, end_date)[\u001b[38;5;124m\"\u001b[39m\u001b[38;5;124mdata\u001b[39m\u001b[38;5;124m\"\u001b[39m]\n\u001b[1;32m      5\u001b[0m \u001b[38;5;66;03m# Filter out data where 'day' does not equal start_date\u001b[39;00m\n\u001b[0;32m----> 6\u001b[0m json_data \u001b[38;5;241m=\u001b[39m \u001b[43mjson_data\u001b[49m\u001b[43m[\u001b[49m\u001b[38;5;241;43m0\u001b[39;49m\u001b[43m]\u001b[49m\n\u001b[1;32m      8\u001b[0m \u001b[38;5;66;03m# Create a dictionary of the data\u001b[39;00m\n\u001b[1;32m      9\u001b[0m df_dict \u001b[38;5;241m=\u001b[39m {}\n",
      "\u001b[0;31mIndexError\u001b[0m: list index out of range"
     ]
    }
   ],
   "source": [
    "# Create DataFrames for each endpoint for each day from 2024-01-10 to today\n",
    "activity_data = pd.DataFrame()\n",
    "readiness_data = pd.DataFrame()\n",
    "sleep_data = pd.DataFrame()\n",
    "spo2_data = pd.DataFrame()\n",
    "stress_data = pd.DataFrame()\n",
    "\n",
    "dates = pd.date_range(start='2021-01-10', end=datetime.now().strftime('%Y-%m-%d'))\n",
    "\n",
    "for date in dates:\n",
    "    start_date = date.strftime('%Y-%m-%d')\n",
    "    end_date = (date + timedelta(days=1)).strftime('%Y-%m-%d')\n",
    "    activity_data = pd.concat([activity_data, read_oura_endpoint('daily_activity', start_date, end_date, activity_columns)])\n",
    "    readiness_data = pd.concat([readiness_data, read_oura_endpoint('daily_readiness', start_date, end_date, readiness_columns)])\n",
    "    sleep_data = pd.concat([sleep_data, read_oura_endpoint('daily_sleep', start_date, end_date, sleep_columns)])\n",
    "    spo2_data = pd.concat([spo2_data, read_oura_endpoint('daily_spo2', start_date, end_date, spo2_columns)])\n",
    "    stress_data = pd.concat([stress_data, read_oura_endpoint('daily_stress', start_date, end_date, stress_columns)])\n",
    "\n",
    "print(activity_data)\n",
    "print(readiness_data)\n",
    "print(sleep_data)\n",
    "print(spo2_data)\n",
    "print(stress_data)\n",
    "\n"
   ]
  },
  {
   "cell_type": "code",
   "execution_count": null,
   "metadata": {},
   "outputs": [],
   "source": []
  }
 ],
 "metadata": {
  "kernelspec": {
   "display_name": "personal",
   "language": "python",
   "name": "python3"
  },
  "language_info": {
   "codemirror_mode": {
    "name": "ipython",
    "version": 3
   },
   "file_extension": ".py",
   "mimetype": "text/x-python",
   "name": "python",
   "nbconvert_exporter": "python",
   "pygments_lexer": "ipython3",
   "version": "3.11.7"
  }
 },
 "nbformat": 4,
 "nbformat_minor": 2
}
